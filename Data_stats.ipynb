{
 "cells": [
  {
   "cell_type": "code",
   "execution_count": 13,
   "metadata": {},
   "outputs": [],
   "source": [
    "import pandas as pd\n",
    "import numpy as np"
   ]
  },
  {
   "cell_type": "code",
   "execution_count": 17,
   "metadata": {},
   "outputs": [],
   "source": [
    "items = pd.read_csv('Items.csv').set_index('StockCode')\n",
    "cust = pd.read_csv('Customers.csv')\n",
    "orders = pd.read_csv('Orders.csv')\n",
    "ordr = pd.read_csv('OrderInvoice.csv')"
   ]
  },
  {
   "cell_type": "code",
   "execution_count": 15,
   "metadata": {},
   "outputs": [],
   "source": [
    "cust.columns = ['r','CustomerID']\n",
    "cust = cust.drop(columns='r')\n",
    "cust = cust.set_index('CustomerID')"
   ]
  },
  {
   "cell_type": "code",
   "execution_count": 18,
   "metadata": {},
   "outputs": [
    {
     "data": {
      "text/html": [
       "<div>\n",
       "<style scoped>\n",
       "    .dataframe tbody tr th:only-of-type {\n",
       "        vertical-align: middle;\n",
       "    }\n",
       "\n",
       "    .dataframe tbody tr th {\n",
       "        vertical-align: top;\n",
       "    }\n",
       "\n",
       "    .dataframe thead th {\n",
       "        text-align: right;\n",
       "    }\n",
       "</style>\n",
       "<table border=\"1\" class=\"dataframe\">\n",
       "  <thead>\n",
       "    <tr style=\"text-align: right;\">\n",
       "      <th></th>\n",
       "      <th></th>\n",
       "      <th></th>\n",
       "      <th>InvoiceDate</th>\n",
       "      <th>Quantity</th>\n",
       "      <th>Warranty</th>\n",
       "      <th>UnitPrice</th>\n",
       "      <th>Price</th>\n",
       "    </tr>\n",
       "    <tr>\n",
       "      <th>CustomerID</th>\n",
       "      <th>InvoiceNo</th>\n",
       "      <th>StockCode</th>\n",
       "      <th></th>\n",
       "      <th></th>\n",
       "      <th></th>\n",
       "      <th></th>\n",
       "      <th></th>\n",
       "    </tr>\n",
       "  </thead>\n",
       "  <tbody>\n",
       "    <tr>\n",
       "      <th rowspan=\"5\" valign=\"top\">17850.0</th>\n",
       "      <th rowspan=\"5\" valign=\"top\">536365</th>\n",
       "      <th>85123A</th>\n",
       "      <td>12/1/2010 8:26</td>\n",
       "      <td>3309</td>\n",
       "      <td>2</td>\n",
       "      <td>2.55</td>\n",
       "      <td>8437.95</td>\n",
       "    </tr>\n",
       "    <tr>\n",
       "      <th>71053</th>\n",
       "      <td>12/1/2010 8:26</td>\n",
       "      <td>1820</td>\n",
       "      <td>7</td>\n",
       "      <td>3.39</td>\n",
       "      <td>6169.80</td>\n",
       "    </tr>\n",
       "    <tr>\n",
       "      <th>84406B</th>\n",
       "      <td>12/1/2010 8:26</td>\n",
       "      <td>4693</td>\n",
       "      <td>10</td>\n",
       "      <td>2.75</td>\n",
       "      <td>12905.75</td>\n",
       "    </tr>\n",
       "    <tr>\n",
       "      <th>84029G</th>\n",
       "      <td>12/1/2010 8:26</td>\n",
       "      <td>3509</td>\n",
       "      <td>2</td>\n",
       "      <td>3.39</td>\n",
       "      <td>11895.51</td>\n",
       "    </tr>\n",
       "    <tr>\n",
       "      <th>84029E</th>\n",
       "      <td>12/1/2010 8:26</td>\n",
       "      <td>3063</td>\n",
       "      <td>5</td>\n",
       "      <td>3.39</td>\n",
       "      <td>10383.57</td>\n",
       "    </tr>\n",
       "  </tbody>\n",
       "</table>\n",
       "</div>"
      ],
      "text/plain": [
       "                                   InvoiceDate  Quantity  Warranty  UnitPrice  \\\n",
       "CustomerID InvoiceNo StockCode                                                  \n",
       "17850.0    536365    85123A     12/1/2010 8:26      3309         2       2.55   \n",
       "                     71053      12/1/2010 8:26      1820         7       3.39   \n",
       "                     84406B     12/1/2010 8:26      4693        10       2.75   \n",
       "                     84029G     12/1/2010 8:26      3509         2       3.39   \n",
       "                     84029E     12/1/2010 8:26      3063         5       3.39   \n",
       "\n",
       "                                   Price  \n",
       "CustomerID InvoiceNo StockCode            \n",
       "17850.0    536365    85123A      8437.95  \n",
       "                     71053       6169.80  \n",
       "                     84406B     12905.75  \n",
       "                     84029G     11895.51  \n",
       "                     84029E     10383.57  "
      ]
     },
     "execution_count": 18,
     "metadata": {},
     "output_type": "execute_result"
    }
   ],
   "source": [
    "ordr = ordr.set_index(['CustomerID', 'InvoiceNo','StockCode'])\n",
    "ordr.head()"
   ]
  },
  {
   "cell_type": "code",
   "execution_count": 22,
   "metadata": {},
   "outputs": [],
   "source": [
    "def cus_stats(cus_id):\n",
    "    new_df = ordr.loc[cus_id]\n",
    "    order_sum = 0\n",
    "    final_sum = ordr.apply(lambda rows: (order_sum+rows['Price']))\n",
    "    return final_sum"
   ]
  },
  {
   "cell_type": "code",
   "execution_count": null,
   "metadata": {},
   "outputs": [],
   "source": []
  }
 ],
 "metadata": {
  "kernelspec": {
   "display_name": "Python 3",
   "language": "python",
   "name": "python3"
  },
  "language_info": {
   "codemirror_mode": {
    "name": "ipython",
    "version": 3
   },
   "file_extension": ".py",
   "mimetype": "text/x-python",
   "name": "python",
   "nbconvert_exporter": "python",
   "pygments_lexer": "ipython3",
   "version": "3.6.4"
  }
 },
 "nbformat": 4,
 "nbformat_minor": 2
}
